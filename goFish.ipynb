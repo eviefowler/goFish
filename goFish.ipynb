{
 "cells": [
  {
   "cell_type": "code",
   "execution_count": 25,
   "metadata": {},
   "outputs": [
    {
     "data": {
      "text/plain": [
       "3"
      ]
     },
     "execution_count": 25,
     "metadata": {},
     "output_type": "execute_result"
    }
   ],
   "source": [
    "# write a function to draw a random card from a deck\n",
    "import random"
   ]
  },
  {
   "cell_type": "code",
   "execution_count": 186,
   "metadata": {},
   "outputs": [
    {
     "name": "stdout",
     "output_type": "stream",
     "text": [
      "['C1', 'D1', 'H1', 'S1', 'C2', 'D2', 'H2', 'S2', 'C3', 'D3', 'H3', 'S3', 'C4', 'D4', 'H4', 'S4', 'C5', 'D5', 'H5', 'S5', 'C6', 'D6', 'H6', 'S6', 'C7', 'D7', 'H7', 'S7', 'C8', 'D8', 'H8', 'S8', 'C9', 'D9', 'H9', 'S9', 'C10', 'D10', 'H10', 'S10', 'C11', 'D11', 'H11', 'S11', 'C12', 'D12', 'H12', 'S12', 'C13', 'D13', 'H13', 'S13']\n",
      "52\n"
     ]
    }
   ],
   "source": [
    "# make a deck of cards\n",
    "def getFreshDeck():\n",
    "    deck = []\n",
    "\n",
    "    for i in range(1, 14, 1):\n",
    "        deck += ['C' + str(i)]\n",
    "        deck += ['D' + str(i)]\n",
    "        deck += ['H' + str(i)]\n",
    "        deck += ['S' + str(i)]\n",
    "        \n",
    "    return(deck)"
   ]
  },
  {
   "cell_type": "code",
   "execution_count": 187,
   "metadata": {},
   "outputs": [
    {
     "name": "stdout",
     "output_type": "stream",
     "text": [
      "45\n"
     ]
    }
   ],
   "source": [
    "# write a function to draw a random card or cards from a target hand\n",
    "# note: this function will modify the existing hands in place\n",
    "def drawX(sourceHand, receiverHand, toDraw = 1):\n",
    "    if len(sourceHand) <= toDraw:\n",
    "        print('Error - your target does not have that many cards')\n",
    "    else:\n",
    "        for i in range(toDraw):\n",
    "            receiverHand += [sourceHand.pop(random.randrange(0, len(sourceHand)))]"
   ]
  },
  {
   "cell_type": "code",
   "execution_count": 191,
   "metadata": {},
   "outputs": [
    {
     "name": "stdout",
     "output_type": "stream",
     "text": [
      "38\n",
      "7\n",
      "7\n"
     ]
    }
   ],
   "source": [
    "## play the game!\n",
    "\n",
    "# first get a fresh deck\n",
    "deck = getFreshDeck()\n",
    "\n",
    "# then deal to two players\n",
    "player1 = list(); player2 = list()\n",
    "drawX(deck, player1, 7)\n",
    "drawX(deck, player2, 7)\n",
    "\n",
    "print(len(deck))\n",
    "print(len(player1))\n",
    "print(len(player2))"
   ]
  }
 ],
 "metadata": {
  "kernelspec": {
   "display_name": "Python 3",
   "language": "python",
   "name": "python3"
  },
  "language_info": {
   "codemirror_mode": {
    "name": "ipython",
    "version": 3
   },
   "file_extension": ".py",
   "mimetype": "text/x-python",
   "name": "python",
   "nbconvert_exporter": "python",
   "pygments_lexer": "ipython3",
   "version": "3.6.5"
  }
 },
 "nbformat": 4,
 "nbformat_minor": 2
}
